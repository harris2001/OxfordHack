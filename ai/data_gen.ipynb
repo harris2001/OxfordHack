{
 "cells": [
  {
   "cell_type": "code",
   "execution_count": null,
   "outputs": [],
   "source": [
    "# Users\n",
    "# - Friends\n",
    "\n",
    "# Posts\n",
    "# - Likes\n",
    "# - Comments"
   ],
   "metadata": {
    "collapsed": false,
    "pycharm": {
     "name": "#%%\n"
    }
   }
  },
  {
   "cell_type": "code",
   "execution_count": 1,
   "outputs": [],
   "source": [
    "import numpy as np"
   ],
   "metadata": {
    "collapsed": false,
    "pycharm": {
     "name": "#%%\n"
    }
   }
  },
  {
   "cell_type": "code",
   "execution_count": 108,
   "outputs": [],
   "source": [
    "def distance_matrix(A, B, squared=False):\n",
    "    \"\"\"\n",
    "    Compute all pairwise distances between vectors in A and B.\n",
    "\n",
    "    Parameters\n",
    "    ----------\n",
    "    A : np.array\n",
    "        shape should be (M, K)\n",
    "    B : np.array\n",
    "        shape should be (N, K)\n",
    "\n",
    "    Returns\n",
    "    -------\n",
    "    D : np.array\n",
    "        A matrix D of shape (M, N).  Each entry in D i,j represnets the\n",
    "        distance between row i in A and row j in B.\n",
    "\n",
    "    See also\n",
    "    --------\n",
    "    A more generalized version of the distance matrix is available from\n",
    "    scipy (https://www.scipy.org) using scipy.spatial.distance_matrix,\n",
    "    which also gives a choice for p-norm.\n",
    "    \"\"\"\n",
    "    M = A.shape[0]\n",
    "    N = B.shape[0]\n",
    "\n",
    "    assert A.shape[1] == B.shape[1], f\"The number of components for vectors in A \\\n",
    "        {A.shape[1]} does not match that of B {B.shape[1]}!\"\n",
    "\n",
    "    A_dots = (A*A).sum(axis=1).reshape((M,1))*np.ones(shape=(1,N))\n",
    "    B_dots = (B*B).sum(axis=1)*np.ones(shape=(M,1))\n",
    "    D_squared =  A_dots + B_dots -2*A.dot(B.T)\n",
    "\n",
    "    if squared == False:\n",
    "        zero_mask = np.less(D_squared, 0.0)\n",
    "        D_squared[zero_mask] = 0.0\n",
    "        return np.sqrt(D_squared)\n",
    "\n",
    "    return D_squared"
   ],
   "metadata": {
    "collapsed": false,
    "pycharm": {
     "name": "#%%\n"
    }
   }
  },
  {
   "cell_type": "code",
   "execution_count": 220,
   "outputs": [
    {
     "name": "stdout",
     "output_type": "stream",
     "text": [
      "[[False False  True False  True  True False False False False]\n",
      " [False False False False  True  True False False False  True]\n",
      " [ True  True False False  True  True  True False False False]\n",
      " [ True False  True False False False  True False  True  True]\n",
      " [ True False False  True False  True  True  True False False]\n",
      " [False False False False  True False  True  True  True False]\n",
      " [ True  True False False  True  True False False False False]\n",
      " [ True False False False  True  True  True False False False]\n",
      " [False False False  True False False False False False  True]\n",
      " [False  True False  True  True False  True  True  True False]]\n"
     ]
    }
   ],
   "source": [
    "#GENERATE FRIENDS\n",
    "num_user = 10\n",
    "user_friend_var = 0.8\n",
    "user_friend_thres = 0.1\n",
    "\n",
    "\n",
    "user_x = np.random.random(num_user)\n",
    "user_y = np.random.random(num_user)\n",
    "user_coor = np.stack((user_x, user_y), axis=-1)\n",
    "\n",
    "#Distances between coors\n",
    "user_dist = distance_matrix(user_coor, user_coor)\n",
    "\n",
    "user_friend = np.full([num_user,num_user], False)\n",
    "for i, user in enumerate(user_coor):\n",
    "    for j, friend in enumerate(user_coor):\n",
    "        if not i == j:\n",
    "            p = np.random.normal(0, user_friend_var)\n",
    "            user_friend[i][j] = p > user_friend_thres\n",
    "\n",
    "print(user_friend)\n",
    "\n",
    "\n",
    "# np.random.normal(0,10,10)"
   ],
   "metadata": {
    "collapsed": false,
    "pycharm": {
     "name": "#%%\n"
    }
   }
  },
  {
   "cell_type": "code",
   "execution_count": 235,
   "outputs": [
    {
     "name": "stdout",
     "output_type": "stream",
     "text": [
      "{0: [5, 0, 0], 1: [9, 9, 9], 2: [4, 7, 6], 3: [2, 9, 2, 8, 0], 4: [3, 5, 7], 5: [5, 4, 9, 4, 2, 6, 5], 6: [5, 1, 3, 2], 7: [5, 5, 5], 8: [3, 5, 9], 9: [1, 6, 1, 8, 2, 6, 3, 3, 5, 4]}\n"
     ]
    }
   ],
   "source": [
    "#GENERATE POSTS\n",
    "post_min = 10\n",
    "post_max = 20\n",
    "\n",
    "prob_like_friend = 0.05\n",
    "prob_like_not_friend = 0.01\n",
    "\n",
    "posts = {}\n",
    "for user in range(num_user):\n",
    "    num_posts = np.random.randint(low=post_min, high=post_max) #num of posts from user\n",
    "    out = []\n",
    "    for post in range(num_posts):\n",
    "        for i, person in enumerate(user_friend[user]):\n",
    "            p = np.random.rand(1)\n",
    "            if person == True and  p <= prob_like_friend:\n",
    "                out.append(i)\n",
    "            elif person == False and p <= prob_like_not_friend:\n",
    "                out.append(i)\n",
    "\n",
    "    posts[user] = out\n",
    "\n",
    "print(posts)"
   ],
   "metadata": {
    "collapsed": false,
    "pycharm": {
     "name": "#%%\n"
    }
   }
  }
 ],
 "metadata": {
  "kernelspec": {
   "display_name": "Python 3",
   "language": "python",
   "name": "python3"
  },
  "language_info": {
   "codemirror_mode": {
    "name": "ipython",
    "version": 2
   },
   "file_extension": ".py",
   "mimetype": "text/x-python",
   "name": "python",
   "nbconvert_exporter": "python",
   "pygments_lexer": "ipython2",
   "version": "2.7.6"
  }
 },
 "nbformat": 4,
 "nbformat_minor": 0
}